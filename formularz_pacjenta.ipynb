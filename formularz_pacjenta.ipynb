{
  "nbformat": 4,
  "nbformat_minor": 0,
  "metadata": {
    "colab": {
      "provenance": [],
      "authorship_tag": "ABX9TyP2LvsOEy6lr1ocB7Tsq3DP",
      "include_colab_link": true
    },
    "kernelspec": {
      "name": "python3",
      "display_name": "Python 3"
    },
    "language_info": {
      "name": "python"
    }
  },
  "cells": [
    {
      "cell_type": "markdown",
      "metadata": {
        "id": "view-in-github",
        "colab_type": "text"
      },
      "source": [
        "<a href=\"https://colab.research.google.com/github/krewskik/MEDICA/blob/main/formularz_pacjenta.ipynb\" target=\"_parent\"><img src=\"https://colab.research.google.com/assets/colab-badge.svg\" alt=\"Open In Colab\"/></a>"
      ]
    },
    {
      "cell_type": "code",
      "execution_count": 2,
      "metadata": {
        "colab": {
          "base_uri": "https://localhost:8080/",
          "height": 384
        },
        "id": "RzrsPCbyOSDm",
        "outputId": "99b9692b-f2bc-497e-c8cd-25eee3c9f1f1"
      },
      "outputs": [
        {
          "output_type": "error",
          "ename": "ModuleNotFoundError",
          "evalue": "No module named 'pywebio'",
          "traceback": [
            "\u001b[0;31m---------------------------------------------------------------------------\u001b[0m",
            "\u001b[0;31mModuleNotFoundError\u001b[0m                       Traceback (most recent call last)",
            "\u001b[0;32m<ipython-input-2-5fa1ac46cda7>\u001b[0m in \u001b[0;36m<cell line: 0>\u001b[0;34m()\u001b[0m\n\u001b[0;32m----> 1\u001b[0;31m \u001b[0;32mfrom\u001b[0m \u001b[0mpywebio\u001b[0m\u001b[0;34m.\u001b[0m\u001b[0minput\u001b[0m \u001b[0;32mimport\u001b[0m \u001b[0minput_group\u001b[0m\u001b[0;34m,\u001b[0m \u001b[0minput\u001b[0m\u001b[0;34m,\u001b[0m \u001b[0mPASSWORD\u001b[0m\u001b[0;34m\u001b[0m\u001b[0;34m\u001b[0m\u001b[0m\n\u001b[0m\u001b[1;32m      2\u001b[0m \u001b[0;32mfrom\u001b[0m \u001b[0mpywebio\u001b[0m\u001b[0;34m.\u001b[0m\u001b[0moutput\u001b[0m \u001b[0;32mimport\u001b[0m \u001b[0mput_text\u001b[0m\u001b[0;34m,\u001b[0m \u001b[0mput_table\u001b[0m\u001b[0;34m,\u001b[0m \u001b[0mput_buttons\u001b[0m\u001b[0;34m\u001b[0m\u001b[0;34m\u001b[0m\u001b[0m\n\u001b[1;32m      3\u001b[0m \u001b[0;32mfrom\u001b[0m \u001b[0mpywebio\u001b[0m\u001b[0;34m.\u001b[0m\u001b[0mplatform\u001b[0m\u001b[0;34m.\u001b[0m\u001b[0mcolab\u001b[0m \u001b[0;32mimport\u001b[0m \u001b[0mstart_server\u001b[0m\u001b[0;34m\u001b[0m\u001b[0;34m\u001b[0m\u001b[0m\n\u001b[1;32m      4\u001b[0m \u001b[0;32mimport\u001b[0m \u001b[0msqlite3\u001b[0m\u001b[0;34m\u001b[0m\u001b[0;34m\u001b[0m\u001b[0m\n\u001b[1;32m      5\u001b[0m \u001b[0;34m\u001b[0m\u001b[0m\n",
            "\u001b[0;31mModuleNotFoundError\u001b[0m: No module named 'pywebio'",
            "",
            "\u001b[0;31m---------------------------------------------------------------------------\u001b[0;32m\nNOTE: If your import is failing due to a missing package, you can\nmanually install dependencies using either !pip or !apt.\n\nTo view examples of installing some common dependencies, click the\n\"Open Examples\" button below.\n\u001b[0;31m---------------------------------------------------------------------------\u001b[0m\n"
          ],
          "errorDetails": {
            "actions": [
              {
                "action": "open_url",
                "actionText": "Open Examples",
                "url": "/notebooks/snippets/importing_libraries.ipynb"
              }
            ]
          }
        }
      ],
      "source": [
        "from pywebio.input import input_group, input, PASSWORD\n",
        "from pywebio.output import put_text, put_table, put_buttons\n",
        "from pywebio.platform.colab import start_server\n",
        "import sqlite3\n",
        "\n",
        "# Połączenie z bazą danych (plik lokalny)\n",
        "conn = sqlite3.connect('medica_plus.db', check_same_thread=False)\n",
        "c = conn.cursor()\n",
        "\n",
        "# Tworzymy tabelę pacjentów jeśli nie istnieje\n",
        "c.execute('''\n",
        "    CREATE TABLE IF NOT EXISTS pacjenci (\n",
        "        id INTEGER PRIMARY KEY AUTOINCREMENT,\n",
        "        imie TEXT,\n",
        "        nazwisko TEXT,\n",
        "        pesel TEXT UNIQUE,\n",
        "        email TEXT,\n",
        "        haslo TEXT\n",
        "    )\n",
        "''')\n",
        "conn.commit()\n",
        "\n",
        "# Funkcja: dodanie pacjenta (formularz HTML + zapis)\n",
        "def dodaj_pacjenta():\n",
        "    dane = input_group(\"Rejestracja pacjenta\", [\n",
        "        input(\"Imię\", name=\"imie\"),\n",
        "        input(\"Nazwisko\", name=\"nazwisko\"),\n",
        "        input(\"PESEL\", name=\"pesel\"),\n",
        "        input(\"Email\", name=\"email\"),\n",
        "        input(\"Hasło\", name=\"haslo\", type=PASSWORD),\n",
        "    ])\n",
        "    try:\n",
        "        c.execute('''\n",
        "            INSERT INTO pacjenci (imie, nazwisko, pesel, email, haslo)\n",
        "            VALUES (?, ?, ?, ?, ?)\n",
        "        ''', (dane['imie'], dane['nazwisko'], dane['pesel'], dane['email'], dane['haslo']))\n",
        "        conn.commit()\n",
        "        put_text(\"✅ Pacjent został dodany.\")\n",
        "    except sqlite3.IntegrityError:\n",
        "        put_text(\"❌ Błąd: pacjent z takim PESEL już istnieje.\")\n",
        "\n",
        "# Funkcja: logowanie pacjenta\n",
        "def logowanie():\n",
        "    dane = input_group(\"Logowanie pacjenta\", [\n",
        "        input(\"PESEL\", name=\"pesel\"),\n",
        "        input(\"Hasło\", name=\"haslo\", type=PASSWORD),\n",
        "    ])\n",
        "    c.execute('SELECT * FROM pacjenci WHERE pesel=? AND haslo=?', (dane['pesel'], dane['haslo']))\n",
        "    pacjent = c.fetchone()\n",
        "    if pacjent:\n",
        "        pokaz_karte(pacjent)\n",
        "    else:\n",
        "        put_text(\"❌ Nieprawidłowy PESEL lub hasło.\")\n",
        "\n",
        "# Funkcja: wyświetlenie karty pacjenta\n",
        "def pokaz_karte(pacjent):\n",
        "    put_text(\"🩺 Karta Pacjenta\")\n",
        "    put_table([\n",
        "        ['ID', pacjent[0]],\n",
        "        ['Imię', pacjent[1]],\n",
        "        ['Nazwisko', pacjent[2]],\n",
        "        ['PESEL', pacjent[3]],\n",
        "        ['Email', pacjent[4]]\n",
        "    ])\n",
        "\n",
        "# Główne menu systemu\n",
        "def start():\n",
        "    put_text(\"👨‍⚕️ Witamy w systemie Medica+\")\n",
        "    put_buttons(['Dodaj pacjenta', 'Zaloguj się'], onclick=[dodaj_pacjenta, logowanie])\n",
        "\n",
        "start_server(start, port=8080)\n"
      ]
    },
    {
      "cell_type": "code",
      "source": [
        "from pywebio.input import input_group, input, PASSWORD\n",
        "from pywebio.output import put_text, put_table, put_buttons\n",
        "from pywebio.platform.colab import start_server\n",
        "import sqlite3\n",
        "\n",
        "# Połączenie z bazą danych (plik lokalny)\n",
        "conn = sqlite3.connect('medica_plus.db', check_same_thread=False)\n",
        "c = conn.cursor()\n",
        "\n",
        "# Tworzymy tabelę pacjentów jeśli nie istnieje\n",
        "c.execute('''\n",
        "    CREATE TABLE IF NOT EXISTS pacjenci (\n",
        "        id INTEGER PRIMARY KEY AUTOINCREMENT,\n",
        "        imie TEXT,\n",
        "        nazwisko TEXT,\n",
        "        pesel TEXT UNIQUE,\n",
        "        email TEXT,\n",
        "        haslo TEXT\n",
        "    )\n",
        "''')\n",
        "conn.commit()\n",
        "\n",
        "# Funkcja: dodanie pacjenta (formularz HTML + zapis)\n",
        "def dodaj_pacjenta():\n",
        "    dane = input_group(\"Rejestracja pacjenta\", [\n",
        "        input(\"Imię\", name=\"imie\"),\n",
        "        input(\"Nazwisko\", name=\"nazwisko\"),\n",
        "        input(\"PESEL\", name=\"pesel\"),\n",
        "        input(\"Email\", name=\"email\"),\n",
        "        input(\"Hasło\", name=\"haslo\", type=PASSWORD),\n",
        "    ])\n",
        "    try:\n",
        "        c.execute('''\n",
        "            INSERT INTO pacjenci (imie, nazwisko, pesel, email, haslo)\n",
        "            VALUES (?, ?, ?, ?, ?)\n",
        "        ''', (dane['imie'], dane['nazwisko'], dane['pesel'], dane['email'], dane['haslo']))\n",
        "        conn.commit()\n",
        "        put_text(\"✅ Pacjent został dodany.\")\n",
        "    except sqlite3.IntegrityError:\n",
        "        put_text(\"❌ Błąd: pacjent z takim PESEL już istnieje.\")\n",
        "\n",
        "# Funkcja: logowanie pacjenta\n",
        "def logowanie():\n",
        "    dane = input_group(\"Logowanie pacjenta\", [\n",
        "        input(\"PESEL\", name=\"pesel\"),\n",
        "        input(\"Hasło\", name=\"haslo\", type=PASSWORD),\n",
        "    ])\n",
        "    c.execute('SELECT * FROM pacjenci WHERE pesel=? AND haslo=?', (dane['pesel'], dane['haslo']))\n",
        "    pacjent = c.fetchone()\n",
        "    if pacjent:\n",
        "        pokaz_karte(pacjent)\n",
        "    else:\n",
        "        put_text(\"❌ Nieprawidłowy PESEL lub hasło.\")\n",
        "\n",
        "# Funkcja: wyświetlenie karty pacjenta\n",
        "def pokaz_karte(pacjent):\n",
        "    put_text(\"🩺 Karta Pacjenta\")\n",
        "    put_table([\n",
        "        ['ID', pacjent[0]],\n",
        "        ['Imię', pacjent[1]],\n",
        "        ['Nazwisko', pacjent[2]],\n",
        "        ['PESEL', pacjent[3]],\n",
        "        ['Email', pacjent[4]]\n",
        "    ])\n",
        "\n",
        "# Główne menu systemu\n",
        "def start():\n",
        "    put_text(\"👨‍⚕️ Witamy w systemie Medica+\")\n",
        "    put_buttons(['Dodaj pacjenta', 'Zaloguj się'], onclick=[dodaj_pacjenta, logowanie])\n",
        "\n",
        "start_server(start, port=8080)\n",
        "\n"
      ],
      "metadata": {
        "colab": {
          "base_uri": "https://localhost:8080/",
          "height": 384
        },
        "id": "A8JZMZiKOnhf",
        "outputId": "2635cb2b-e0b1-40c6-8a71-02d8d65dce60"
      },
      "execution_count": 1,
      "outputs": [
        {
          "output_type": "error",
          "ename": "ModuleNotFoundError",
          "evalue": "No module named 'pywebio'",
          "traceback": [
            "\u001b[0;31m---------------------------------------------------------------------------\u001b[0m",
            "\u001b[0;31mModuleNotFoundError\u001b[0m                       Traceback (most recent call last)",
            "\u001b[0;32m<ipython-input-1-cfb774bdc270>\u001b[0m in \u001b[0;36m<cell line: 0>\u001b[0;34m()\u001b[0m\n\u001b[0;32m----> 1\u001b[0;31m \u001b[0;32mfrom\u001b[0m \u001b[0mpywebio\u001b[0m\u001b[0;34m.\u001b[0m\u001b[0minput\u001b[0m \u001b[0;32mimport\u001b[0m \u001b[0minput_group\u001b[0m\u001b[0;34m,\u001b[0m \u001b[0minput\u001b[0m\u001b[0;34m,\u001b[0m \u001b[0mPASSWORD\u001b[0m\u001b[0;34m\u001b[0m\u001b[0;34m\u001b[0m\u001b[0m\n\u001b[0m\u001b[1;32m      2\u001b[0m \u001b[0;32mfrom\u001b[0m \u001b[0mpywebio\u001b[0m\u001b[0;34m.\u001b[0m\u001b[0moutput\u001b[0m \u001b[0;32mimport\u001b[0m \u001b[0mput_text\u001b[0m\u001b[0;34m,\u001b[0m \u001b[0mput_table\u001b[0m\u001b[0;34m,\u001b[0m \u001b[0mput_buttons\u001b[0m\u001b[0;34m\u001b[0m\u001b[0;34m\u001b[0m\u001b[0m\n\u001b[1;32m      3\u001b[0m \u001b[0;32mfrom\u001b[0m \u001b[0mpywebio\u001b[0m\u001b[0;34m.\u001b[0m\u001b[0mplatform\u001b[0m\u001b[0;34m.\u001b[0m\u001b[0mcolab\u001b[0m \u001b[0;32mimport\u001b[0m \u001b[0mstart_server\u001b[0m\u001b[0;34m\u001b[0m\u001b[0;34m\u001b[0m\u001b[0m\n\u001b[1;32m      4\u001b[0m \u001b[0;32mimport\u001b[0m \u001b[0msqlite3\u001b[0m\u001b[0;34m\u001b[0m\u001b[0;34m\u001b[0m\u001b[0m\n\u001b[1;32m      5\u001b[0m \u001b[0;34m\u001b[0m\u001b[0m\n",
            "\u001b[0;31mModuleNotFoundError\u001b[0m: No module named 'pywebio'",
            "",
            "\u001b[0;31m---------------------------------------------------------------------------\u001b[0;32m\nNOTE: If your import is failing due to a missing package, you can\nmanually install dependencies using either !pip or !apt.\n\nTo view examples of installing some common dependencies, click the\n\"Open Examples\" button below.\n\u001b[0;31m---------------------------------------------------------------------------\u001b[0m\n"
          ],
          "errorDetails": {
            "actions": [
              {
                "action": "open_url",
                "actionText": "Open Examples",
                "url": "/notebooks/snippets/importing_libraries.ipynb"
              }
            ]
          }
        }
      ]
    }
  ]
}